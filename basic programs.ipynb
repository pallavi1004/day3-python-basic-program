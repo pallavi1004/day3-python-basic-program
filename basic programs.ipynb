{
 "cells": [
  {
   "cell_type": "markdown",
   "metadata": {},
   "source": [
    "Write a Python program to get the difference between a given number and 17, if the number is greater than 17 \n",
    "return double the absolute difference."
   ]
  },
  {
   "cell_type": "code",
   "execution_count": 2,
   "metadata": {},
   "outputs": [
    {
     "name": "stdout",
     "output_type": "stream",
     "text": [
      "enter the number :57\n",
      "80\n"
     ]
    }
   ],
   "source": [
    "n = input(\"enter the number :\")\n",
    "num = int(n)\n",
    "if(num<=17):\n",
    "    diff = (17-num)\n",
    "    print(diff)\n",
    "else:\n",
    "    diff = (num-17)*2\n",
    "    print(diff)"
   ]
  },
  {
   "cell_type": "code",
   "execution_count": null,
   "metadata": {},
   "outputs": [],
   "source": [
    " Write a Python program to test whether a number is within 100 of 1000 or 2000."
   ]
  },
  {
   "cell_type": "code",
   "execution_count": 5,
   "metadata": {},
   "outputs": [
    {
     "name": "stdout",
     "output_type": "stream",
     "text": [
      "Enter the number :1000\n",
      "1000 is near thousand is true\n",
      "1000 is near two thousand is false\n"
     ]
    }
   ],
   "source": [
    "n = input(\"Enter the number :\")\n",
    "num = int(n)\n",
    "if(num>=900 and num<=1100):\n",
    "    print(n +\" is near thousand is true\")\n",
    "else:\n",
    "    print(n +\" is near thousand is false\")\n",
    "    \n",
    "if(num>=1900 and num<=2100):\n",
    "    print(n +\" is near two thousand is true\")\n",
    "else:\n",
    "    print(n +\" is near two thousand is false\")\n",
    "   "
   ]
  },
  {
   "cell_type": "markdown",
   "metadata": {},
   "source": [
    "Write a Python program to calculate the sum of three given numbers, if the values are equal then\n",
    "return three times of their sum."
   ]
  },
  {
   "cell_type": "code",
   "execution_count": 2,
   "metadata": {},
   "outputs": [
    {
     "name": "stdout",
     "output_type": "stream",
     "text": [
      "None\n",
      "27\n"
     ]
    }
   ],
   "source": [
    "\n",
    "#half pending\n",
    "\n",
    "\n",
    "\n",
    "def sum(a, b, c):\n",
    "    sums = a + b + c\n",
    "    \n",
    "    if(a == b == c):\n",
    "        sums = sums * 3\n",
    "        return sums\n",
    "    \n",
    "print(sum(1, 2, 3))\n",
    "print(sum(3, 3, 3))"
   ]
  },
  {
   "cell_type": "code",
   "execution_count": 6,
   "metadata": {},
   "outputs": [
    {
     "name": "stdout",
     "output_type": "stream",
     "text": [
      "Enter the first number : 4\n",
      "Enter the second number : 5\n",
      "Enter the third number : 9\n",
      "Sum of the numbers = 18\n"
     ]
    }
   ],
   "source": [
    "n1= input(\"Enter the first number : \")\n",
    "n2= input(\"Enter the second number : \")\n",
    "n3= input(\"Enter the third number : \")\n",
    "\n",
    "a= int(n1)\n",
    "b= int(n2)\n",
    "c= int(n3)\n",
    "\n",
    "sum=a + b + c\n",
    "s=str(sum)\n",
    "print(\"Sum of the numbers = \"+ s)\n",
    "    \n",
    "if(a == b == c):\n",
    "    sums = (a + b +c)*3\n",
    "    s1=str(sums)\n",
    "    print(\"As the values are equal : Sum = \"+ s1)\n",
    "\n",
    "    "
   ]
  },
  {
   "cell_type": "markdown",
   "metadata": {},
   "source": [
    "Write a Python program to get a new string from a given string where \"Is\" has been added to the front. \n",
    "If the given string already begins with \"Is\" then return the string unchanged."
   ]
  },
  {
   "cell_type": "code",
   "execution_count": null,
   "metadata": {},
   "outputs": [],
   "source": [
    "getstr1 = input(\"Enter the string :\")\n",
    "\n",
    "if(getstr1[:2]!= \"Is\"):\n",
    "    print(\"Is\"+getstr1)\n",
    "elif(getstr1[:2]==\"Is\"):\n",
    "    print(getstr1)"
   ]
  },
  {
   "cell_type": "code",
   "execution_count": 1,
   "metadata": {},
   "outputs": [
    {
     "name": "stdout",
     "output_type": "stream",
     "text": [
      "None\n",
      "Isempty\n"
     ]
    }
   ],
   "source": [
    "\n",
    "#half pending\n",
    "\n",
    "\n",
    "def new_str(str):\n",
    "    if(len(str)>=2 and str[:2]==\"Is\"):\n",
    "        return str\n",
    "        return \"Is\"+str\n",
    "print(new_str(\"array\"))\n",
    "print(new_str(\"Isempty\"))"
   ]
  },
  {
   "cell_type": "markdown",
   "metadata": {},
   "source": [
    "Write a Python program to get a string which is n (non-negative integer) copies of a given string."
   ]
  },
  {
   "cell_type": "code",
   "execution_count": 7,
   "metadata": {},
   "outputs": [
    {
     "name": "stdout",
     "output_type": "stream",
     "text": [
      "Enter the string :azsx.\n",
      "Enter the number of copies of string :5\n",
      "azsx.azsx.azsx.azsx.azsx.\n"
     ]
    }
   ],
   "source": [
    "get_str = input(\"Enter the string :\")\n",
    "coppy = input(\"Enter the number of copies of string :\")\n",
    "copies = int(coppy)\n",
    "\n",
    "result =\"\"\n",
    "result=result+get_str*copies\n",
    "print(result)\n"
   ]
  },
  {
   "cell_type": "markdown",
   "metadata": {},
   "source": [
    "Write a Python program to find whether a given number (accept from the user) is even or odd, print out \n",
    "an appropriate message to the user."
   ]
  },
  {
   "cell_type": "code",
   "execution_count": 3,
   "metadata": {},
   "outputs": [
    {
     "name": "stdout",
     "output_type": "stream",
     "text": [
      "Enter the number :5\n",
      "The 5 is an odd number\n"
     ]
    }
   ],
   "source": [
    "\n",
    "numb = input(\"Enter the number :\")\n",
    "no = int(numb)\n",
    "if(no%2==0):\n",
    "    print(\"The \"+numb+\" is an even number\")\n",
    "else:\n",
    "    print(\"The \"+numb+\" is an odd number\")"
   ]
  },
  {
   "cell_type": "markdown",
   "metadata": {},
   "source": [
    "Write a Python program to count the number 4 in a given list."
   ]
  },
  {
   "cell_type": "code",
   "execution_count": 46,
   "metadata": {},
   "outputs": [
    {
     "name": "stdout",
     "output_type": "stream",
     "text": [
      "Enter the values in the list :1,2,3,4,5,6,4,4,4,4\n",
      "['1', '2', '3', '4', '5', '6', '4', '4', '4', '4']\n",
      "5\n"
     ]
    }
   ],
   "source": [
    "list_count = input(\"Enter the values in the list :\")\n",
    "list_count_spl = list_count.split(\",\")\n",
    "print(list_count_spl)\n",
    "#list_count_4 = list(list_count_spl)\n",
    "\n",
    "\n",
    "count = 0\n",
    "for num in list_count_spl:\n",
    "    if(num == \"4\"):\n",
    "        count=count+1\n",
    "print(count)\n",
    "    "
   ]
  },
  {
   "cell_type": "code",
   "execution_count": 50,
   "metadata": {},
   "outputs": [
    {
     "name": "stdout",
     "output_type": "stream",
     "text": [
      "2\n",
      "3\n"
     ]
    }
   ],
   "source": [
    "def list_count_4(nums):\n",
    "    count = 0  \n",
    "    for num in nums:\n",
    "        if (num == 4):\n",
    "            count = count + 1\n",
    "\n",
    "    return count\n",
    "\n",
    "print(list_count_4([1, 4, 6, 7, 4]))\n",
    "print(list_count_4([1, 4, 6, 4, 7, 4]))"
   ]
  },
  {
   "cell_type": "markdown",
   "metadata": {},
   "source": [
    "Write a Python program to get the n (non-negative integer) copies of the first 2 characters of a given string.\n",
    "Return the n copies of the whole string if the length is less than 2."
   ]
  },
  {
   "cell_type": "code",
   "execution_count": 54,
   "metadata": {},
   "outputs": [
    {
     "name": "stdout",
     "output_type": "stream",
     "text": [
      "Enter the string :as\n",
      "Enter the number of copies :7\n",
      "asasasasasasas\n"
     ]
    }
   ],
   "source": [
    "new_str = input(\"Enter the string :\")\n",
    "no_copy = input(\"Enter the number of copies :\")\n",
    "no_copies = int(no_copy)\n",
    "\n",
    "if(len(new_str)<=2):\n",
    "    whole_str_cop = new_str * no_copies\n",
    "    print(whole_str_cop)\n",
    "else:\n",
    "    copies = new_str[:2] * no_copies\n",
    "    print(copies)\n",
    "\n"
   ]
  },
  {
   "cell_type": "markdown",
   "metadata": {},
   "source": [
    "Write a Python program to test whether a passed letter is a vowel or not."
   ]
  },
  {
   "cell_type": "code",
   "execution_count": 63,
   "metadata": {},
   "outputs": [
    {
     "name": "stdout",
     "output_type": "stream",
     "text": [
      "Enter the letter :s\n",
      "s is consonant\n"
     ]
    }
   ],
   "source": [
    "\n",
    "pass_letter = input(\"Enter the letter :\")\n",
    "\n",
    "if(pass_letter == \"a\" or pass_letter == \"e\" or pass_letter == \"i\" or pass_letter == \"o\" or pass_letter == \"u\"):\n",
    "    print(pass_letter +\" is vowel\")\n",
    "else:\n",
    "    print(pass_letter +\" is consonant\")"
   ]
  },
  {
   "cell_type": "code",
   "execution_count": 65,
   "metadata": {},
   "outputs": [
    {
     "name": "stdout",
     "output_type": "stream",
     "text": [
      "Enter the letter :zd\n",
      "You can not enter more than one letter\n"
     ]
    }
   ],
   "source": [
    "pass_letter = input(\"Enter the letter :\")\n",
    "\n",
    "if(len(pass_letter) == 1):\n",
    "    \n",
    "    if(pass_letter == \"a\" or pass_letter == \"e\" or pass_letter == \"i\" or pass_letter == \"o\" or pass_letter == \"u\"):\n",
    "        print(pass_letter +\" is vowel\")\n",
    "    else:\n",
    "        print(pass_letter +\" is consonant\")\n",
    "else:\n",
    "    print(\"You can not enter more than one letter\")"
   ]
  },
  {
   "cell_type": "markdown",
   "metadata": {},
   "source": [
    "Write a Python program to check whether a specified value is contained in a group of values.\n",
    "Test Data :\n",
    "3 -> [1, 5, 8, 3] : True\n",
    "-1 -> [1, 5, 8, 3] : False"
   ]
  },
  {
   "cell_type": "code",
   "execution_count": 86,
   "metadata": {},
   "outputs": [
    {
     "name": "stdout",
     "output_type": "stream",
     "text": [
      "Enter the numbers :1,2,3,4,5,1,1\n",
      "Enter test data :1\n",
      "1True\n"
     ]
    }
   ],
   "source": [
    "new_list = input(\"Enter the numbers :\")\n",
    "new_list_splt = new_list.split(',')\n",
    "test_data = input(\"Enter test data :\")\n",
    "if(test_data in new_list_splt):\n",
    "    print(test_data +\"True\")\n",
    "else:\n",
    "    print(test_data +\"False\")\n",
    "    \n"
   ]
  },
  {
   "cell_type": "markdown",
   "metadata": {},
   "source": [
    "Write a Python program to create a histogram from a given list of integers."
   ]
  },
  {
   "cell_type": "code",
   "execution_count": 88,
   "metadata": {},
   "outputs": [
    {
     "name": "stdout",
     "output_type": "stream",
     "text": [
      "Enter the items of histogram :2,3,6,5\n",
      "['2', '3', '6', '5']\n"
     ]
    }
   ],
   "source": [
    "\n",
    "#pending\n",
    "\n",
    "item = input(\"Enter the items of histogram :\")\n",
    "item_splt = item.split(\",\")\n",
    "print(item_splt)"
   ]
  },
  {
   "cell_type": "code",
   "execution_count": 89,
   "metadata": {},
   "outputs": [
    {
     "name": "stdout",
     "output_type": "stream",
     "text": [
      "**\n",
      "***\n",
      "******\n",
      "*****\n"
     ]
    }
   ],
   "source": [
    "\n",
    "#need to learn\n",
    "\n",
    "\n",
    "def histogram( items ):\n",
    "    for n in items:\n",
    "        output = ''\n",
    "        times = n\n",
    "        while( times > 0 ):\n",
    "          output += '*'\n",
    "          times = times - 1\n",
    "        print(output)\n",
    "\n",
    "histogram([2, 3, 6, 5])"
   ]
  },
  {
   "cell_type": "markdown",
   "metadata": {},
   "source": [
    " Write a Python program to concatenate all elements in a list into a string and return it."
   ]
  },
  {
   "cell_type": "code",
   "execution_count": 91,
   "metadata": {},
   "outputs": [
    {
     "name": "stdout",
     "output_type": "stream",
     "text": [
      "Enter the values of lists :1,3,5,6\n",
      "['1', '3', '5', '6']\n",
      "1356\n"
     ]
    }
   ],
   "source": [
    "strng_list = input(\"Enter the values of lists :\")\n",
    "strng_list_spl = strng_list.split(\",\")\n",
    "print(strng_list_spl)\n",
    "op = ''\n",
    "for element in strng_list_spl:\n",
    "    op += str(element)\n",
    "print(op)"
   ]
  },
  {
   "cell_type": "markdown",
   "metadata": {},
   "source": [
    "Write a Python program to print all even numbers from a given numbers list in the same order and stop the printing \n",
    "if any numbers that come after 237 in the sequence.\n",
    "Sample numbers list :\n",
    "\n",
    "numbers = [    \n",
    "    386, 462, 47, 418, 907, 344, 236, 375, 823, 566, 597, 978, 328, 615, 953, 345, \n",
    "    399, 162, 758, 219, 918, 237, 412, 566, 826, 248, 866, 950, 626, 949, 687, 217, \n",
    "    815, 67, 104, 58, 512, 24, 892, 894, 767, 553, 81, 379, 843, 831, 445, 742, 717, \n",
    "    958,743, 527\n",
    "    ]"
   ]
  },
  {
   "cell_type": "code",
   "execution_count": 110,
   "metadata": {},
   "outputs": [
    {
     "name": "stdout",
     "output_type": "stream",
     "text": [
      "386,462,418,344,236,566,978,328,162,758,918,"
     ]
    }
   ],
   "source": [
    "numbers = [ 386, 462, 47, 418, 907, 344, 236, 375, 823, 566, 597, 978, 328, 615, 953, 345, \n",
    "            399, 162, 758, 219, 918, 237, 412, 566, 826, 248, 866, 950, 626, 949, 687, 217, \n",
    "            815, 67, 104, 58, 512, 24, 892, 894, 767, 553, 81, 379, 843, 831, 445, 742, 717, \n",
    "            958,743, 527]\n",
    "for no in numbers:\n",
    "    if(no == 237):\n",
    "        break\n",
    "    if(no % 2 == 0):\n",
    "        print(no,end=\",\")\n",
    "                \n",
    "                "
   ]
  },
  {
   "cell_type": "markdown",
   "metadata": {},
   "source": [
    "Write a Python program to print out a set containing all the colors from color_list_1 which are not present in color_list_2.\n",
    "Test Data :\n",
    "color_list_1 = set([\"White\", \"Black\", \"Red\"])\n",
    "color_list_2 = set([\"Red\", \"Green\"])"
   ]
  },
  {
   "cell_type": "code",
   "execution_count": 164,
   "metadata": {},
   "outputs": [
    {
     "name": "stdout",
     "output_type": "stream",
     "text": [
      "White\n",
      "Black\n",
      "Red\n"
     ]
    }
   ],
   "source": [
    "color_list_1 = set([\"White\", \"Black\", \"Red\"])\n",
    "color_list_2 = set([\"Red\", \"Green\"])\n",
    "for colors in color_list_1:\n",
    "    #for color in color_list_2:\n",
    "    if(colors != color_list_2):\n",
    "        print(colors)\n",
    "#if(colors == color_list_2):\n",
    "    "
   ]
  },
  {
   "cell_type": "code",
   "execution_count": 167,
   "metadata": {},
   "outputs": [
    {
     "name": "stdout",
     "output_type": "stream",
     "text": [
      "{'White', 'Black'}\n"
     ]
    }
   ],
   "source": [
    "color_list_1 = set([\"White\", \"Black\", \"Red\"])\n",
    "color_list_2 = set([\"Red\", \"Green\"])\n",
    "different = color_list_1.difference(color_list_2)\n",
    "print(different)"
   ]
  },
  {
   "cell_type": "markdown",
   "metadata": {},
   "source": [
    " Write a Python program that will accept the base and height of a triangle and compute the area."
   ]
  },
  {
   "cell_type": "code",
   "execution_count": 169,
   "metadata": {},
   "outputs": [
    {
     "name": "stdout",
     "output_type": "stream",
     "text": [
      "Enter the length of triangle :3\n",
      "Enter the height of triangle :5\n",
      "7.5\n"
     ]
    }
   ],
   "source": [
    "base = input(\"Enter the length of triangle :\")\n",
    "height = input(\"Enter the height of triangle :\")\n",
    "base_i = float(base)\n",
    "height_i = float(height)\n",
    "area= 0.5*base_i*height_i\n",
    "print(area)"
   ]
  },
  {
   "cell_type": "markdown",
   "metadata": {},
   "source": [
    "Write a Python program to compute the greatest common divisor (GCD) of two positive integers."
   ]
  },
  {
   "cell_type": "code",
   "execution_count": 172,
   "metadata": {},
   "outputs": [
    {
     "name": "stdout",
     "output_type": "stream",
     "text": [
      "Enter the first no. : 20\n",
      "Enter the second no. : 16\n",
      "20\n",
      "16\n"
     ]
    }
   ],
   "source": [
    "\n",
    "#pending\n",
    "\n",
    "first_no = input(\"Enter the first no. : \")\n",
    "second_no = input(\"Enter the second no. : \")\n",
    "first_i = int(first_no)\n",
    "second_i = int(second_no)\n",
    "print(first_i)\n",
    "print(second_i)\n"
   ]
  },
  {
   "cell_type": "code",
   "execution_count": 173,
   "metadata": {},
   "outputs": [
    {
     "name": "stdout",
     "output_type": "stream",
     "text": [
      "1\n",
      "2\n"
     ]
    }
   ],
   "source": [
    "\n",
    "#learn\n",
    "\n",
    "\n",
    "def gcd(x, y):\n",
    "    gcd = 1\n",
    "    \n",
    "    if x % y == 0:\n",
    "        return y\n",
    "    \n",
    "    for k in range(int(y / 2), 0, -1):\n",
    "        if x % k == 0 and y % k == 0:\n",
    "            gcd = k\n",
    "            break  \n",
    "    return gcd\n",
    "\n",
    "print(gcd(12, 17))\n",
    "print(gcd(4, 6))"
   ]
  },
  {
   "cell_type": "markdown",
   "metadata": {},
   "source": [
    "Write a Python program to get the least common multiple (LCM) of two positive integers."
   ]
  },
  {
   "cell_type": "code",
   "execution_count": 175,
   "metadata": {},
   "outputs": [
    {
     "name": "stdout",
     "output_type": "stream",
     "text": [
      "12\n",
      "255\n"
     ]
    }
   ],
   "source": [
    "\n",
    "#learn\n",
    "\n",
    "\n",
    "def lcm(x, y):\n",
    "   if x > y:\n",
    "       z = x\n",
    "   else:\n",
    "       z = y\n",
    "\n",
    "   while(True):\n",
    "       if((z % x == 0) and (z % y == 0)):\n",
    "           lcm = z\n",
    "           break\n",
    "       z += 1\n",
    "\n",
    "   return lcm\n",
    "print(lcm(4, 6))\n",
    "print(lcm(15, 17))"
   ]
  },
  {
   "cell_type": "code",
   "execution_count": 176,
   "metadata": {},
   "outputs": [],
   "source": [
    "#try new way"
   ]
  },
  {
   "cell_type": "markdown",
   "metadata": {},
   "source": [
    "Write a Python program to sum of three given integers. However, if two values are equal sum will be zero."
   ]
  },
  {
   "cell_type": "code",
   "execution_count": 201,
   "metadata": {},
   "outputs": [
    {
     "name": "stdout",
     "output_type": "stream",
     "text": [
      "Enter first number : 3\n",
      "Enter second number : 5\n",
      "Enter third number : 5\n",
      "0\n"
     ]
    }
   ],
   "source": [
    "num1 = input(\"Enter first number : \")\n",
    "num2 = input(\"Enter second number : \")\n",
    "num3 = input(\"Enter third number : \")\n",
    "num1_i = int(num1)\n",
    "num2_i = int(num2)\n",
    "num3_i = int(num3)\n",
    "if(num1_i != num2_i and num1_i!= num3_i and num2_i != num3_i):\n",
    "    add = num1_i + num2_i + num3_i\n",
    "    print(add)\n",
    "elif(num1_i == num2_i or num1_i== num3_i or num2_i == num3_i):   \n",
    "    print(0)    "
   ]
  },
  {
   "cell_type": "markdown",
   "metadata": {},
   "source": [
    " Write a Python program to sum of two given integers. However, if the sum is between 15 to 20 it will return 20."
   ]
  },
  {
   "cell_type": "code",
   "execution_count": 203,
   "metadata": {},
   "outputs": [
    {
     "name": "stdout",
     "output_type": "stream",
     "text": [
      "Enter the first number : 9\n",
      "Enter the second number : 2\n",
      "11\n"
     ]
    }
   ],
   "source": [
    "int1 = input(\"Enter the first number : \")\n",
    "int2 = input(\"Enter the second number : \")\n",
    "int1_i = int(int1)\n",
    "int2_i = int(int2)\n",
    "sum = int1_i + int2_i\n",
    "if(sum >= 15 and sum <= 20):\n",
    "    print(20)\n",
    "else:\n",
    "    print(sum)"
   ]
  },
  {
   "cell_type": "markdown",
   "metadata": {},
   "source": [
    "Write a Python program that will return true if the two given integer values are equal or their sum or difference is 5."
   ]
  },
  {
   "cell_type": "code",
   "execution_count": 213,
   "metadata": {},
   "outputs": [
    {
     "name": "stdout",
     "output_type": "stream",
     "text": [
      "Enter the first number : 3\n",
      "Enter the second number : 1\n",
      "False\n"
     ]
    }
   ],
   "source": [
    "firstno = input(\"Enter the first number : \")\n",
    "secondno = input(\"Enter the second number : \")\n",
    "first = int(firstno)\n",
    "second = int(secondno)\n",
    "add=first+second\n",
    "sub=first-second\n",
    "if(first == second or add == 5 or sub == 5):\n",
    "    print(\"True\")\n",
    "else:\n",
    "    print(\"False\")\n"
   ]
  },
  {
   "cell_type": "markdown",
   "metadata": {},
   "source": [
    "Write a Python program to add two objects if both objects are an integer type."
   ]
  },
  {
   "cell_type": "code",
   "execution_count": 215,
   "metadata": {},
   "outputs": [],
   "source": [
    "#pending"
   ]
  },
  {
   "cell_type": "code",
   "execution_count": 216,
   "metadata": {},
   "outputs": [
    {
     "name": "stdout",
     "output_type": "stream",
     "text": [
      "30\n"
     ]
    }
   ],
   "source": [
    "def add_numbers(a, b):\n",
    "    if not (isinstance(a, int) and isinstance(b, int)):\n",
    "         raise TypeError(\"Inputs must be integers\")\n",
    "    return a + b\n",
    "\n",
    "print(add_numbers(10, 20))"
   ]
  },
  {
   "cell_type": "markdown",
   "metadata": {},
   "source": [
    " Write a Python program to display your details like name, age, address in three different lines."
   ]
  },
  {
   "cell_type": "code",
   "execution_count": 219,
   "metadata": {},
   "outputs": [
    {
     "name": "stdout",
     "output_type": "stream",
     "text": [
      "Enter the name : sarah\n",
      "Enter the age : 20\n",
      "Enter the address :amsterdam\n",
      "Name :sarah\n",
      "Age :20\n",
      "Address:amsterdam\n"
     ]
    }
   ],
   "source": [
    "name = input(\"Enter the name : \")\n",
    "age = input(\"Enter the age : \")\n",
    "address = input(\"Enter the address :\")\n",
    "print(\"Name :\" + name)\n",
    "print(\"Age :\"+ age)\n",
    "print(\"Address:\" + address)"
   ]
  },
  {
   "cell_type": "code",
   "execution_count": 220,
   "metadata": {},
   "outputs": [
    {
     "name": "stdout",
     "output_type": "stream",
     "text": [
      "Name: Simon\n",
      "Age: 19\n",
      "Address: Bangalore, Karnataka, India\n"
     ]
    }
   ],
   "source": [
    "def personal_details():\n",
    "    name, age = \"Simon\", 19\n",
    "    address = \"Bangalore, Karnataka, India\"\n",
    "    print(\"Name: {}\\nAge: {}\\nAddress: {}\".format(name, age, address))\n",
    "\n",
    "personal_details()"
   ]
  },
  {
   "cell_type": "markdown",
   "metadata": {},
   "source": [
    "Write a Python program to solve (x + y) * (x + y).\n",
    "Test Data : x = 4, y = 3"
   ]
  },
  {
   "cell_type": "code",
   "execution_count": 225,
   "metadata": {},
   "outputs": [
    {
     "name": "stdout",
     "output_type": "stream",
     "text": [
      "49\n"
     ]
    }
   ],
   "source": [
    "x = 4\n",
    "y = 3\n",
    "z = x + y\n",
    "#op = z * z\n",
    "op = z**2\n",
    "print(op)"
   ]
  },
  {
   "cell_type": "markdown",
   "metadata": {},
   "source": [
    "Write a Python program to compute the future value of a specified principal amount, rate of interest, and a number of years.\n",
    "Test Data : amt = 10000, int = 3.5, years = 7"
   ]
  },
  {
   "cell_type": "code",
   "execution_count": 227,
   "metadata": {},
   "outputs": [
    {
     "name": "stdout",
     "output_type": "stream",
     "text": [
      "12722.79\n"
     ]
    }
   ],
   "source": [
    "#learn\n",
    "\n",
    "amt = 10000\n",
    "int = 3.5\n",
    "years = 7\n",
    "\n",
    "future_value  = amt*((1+(0.01*int)) ** years)\n",
    "print(round(future_value,2))"
   ]
  },
  {
   "cell_type": "code",
   "execution_count": 228,
   "metadata": {},
   "outputs": [],
   "source": [
    "#pending"
   ]
  },
  {
   "cell_type": "markdown",
   "metadata": {},
   "source": [
    "Write a Python program to compute the distance between the points (x1, y1) and (x2, y2)."
   ]
  },
  {
   "cell_type": "code",
   "execution_count": 230,
   "metadata": {},
   "outputs": [
    {
     "name": "stdout",
     "output_type": "stream",
     "text": [
      "6.324555320336759\n"
     ]
    }
   ],
   "source": [
    "#learn\n",
    "\n",
    "import math\n",
    "p1 = [4, 0]\n",
    "p2 = [6, 6]\n",
    "distance = math.sqrt( ((p1[0]-p2[0])**2)+((p1[1]-p2[1])**2) )\n",
    "\n",
    "print(distance)"
   ]
  },
  {
   "cell_type": "code",
   "execution_count": 231,
   "metadata": {},
   "outputs": [],
   "source": [
    "#pending"
   ]
  },
  {
   "cell_type": "code",
   "execution_count": null,
   "metadata": {},
   "outputs": [],
   "source": []
  }
 ],
 "metadata": {
  "kernelspec": {
   "display_name": "Python 3",
   "language": "python",
   "name": "python3"
  },
  "language_info": {
   "codemirror_mode": {
    "name": "ipython",
    "version": 3
   },
   "file_extension": ".py",
   "mimetype": "text/x-python",
   "name": "python",
   "nbconvert_exporter": "python",
   "pygments_lexer": "ipython3",
   "version": "3.8.5"
  }
 },
 "nbformat": 4,
 "nbformat_minor": 4
}
